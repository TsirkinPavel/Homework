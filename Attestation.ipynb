{
  "nbformat": 4,
  "nbformat_minor": 0,
  "metadata": {
    "colab": {
      "provenance": [],
      "authorship_tag": "ABX9TyOZO5TjvIUJ/5rXZg7/G/nr",
      "include_colab_link": true
    },
    "kernelspec": {
      "name": "python3",
      "display_name": "Python 3"
    },
    "language_info": {
      "name": "python"
    }
  },
  "cells": [
    {
      "cell_type": "markdown",
      "metadata": {
        "id": "view-in-github",
        "colab_type": "text"
      },
      "source": [
        "<a href=\"https://colab.research.google.com/github/TsirkinPavel/Homework/blob/main/Attestation.ipynb\" target=\"_parent\"><img src=\"https://colab.research.google.com/assets/colab-badge.svg\" alt=\"Open In Colab\"/></a>"
      ]
    },
    {
      "cell_type": "code",
      "execution_count": 1,
      "metadata": {
        "colab": {
          "base_uri": "https://localhost:8080/"
        },
        "id": "rESiDg8_5WnO",
        "outputId": "28bae979-6755-457e-8e99-49bbb26ec4f8"
      },
      "outputs": [
        {
          "output_type": "stream",
          "name": "stdout",
          "text": [
            "            whoAmI  I am a robot:(  human\n",
            "0   I am a robot:(             1.0    0.0\n",
            "1   I am a robot:(             1.0    0.0\n",
            "2   I am a robot:(             1.0    0.0\n",
            "3            human             0.0    1.0\n",
            "4            human             0.0    1.0\n",
            "5   I am a robot:(             1.0    0.0\n",
            "6            human             0.0    1.0\n",
            "7   I am a robot:(             1.0    0.0\n",
            "8            human             0.0    1.0\n",
            "9            human             0.0    1.0\n",
            "10           human             0.0    1.0\n",
            "11  I am a robot:(             1.0    0.0\n",
            "12  I am a robot:(             1.0    0.0\n",
            "13  I am a robot:(             1.0    0.0\n",
            "14           human             0.0    1.0\n",
            "15           human             0.0    1.0\n",
            "16           human             0.0    1.0\n",
            "17  I am a robot:(             1.0    0.0\n",
            "18  I am a robot:(             1.0    0.0\n",
            "19           human             0.0    1.0\n"
          ]
        }
      ],
      "source": [
        "import pandas as pd\n",
        "import random\n",
        "lst = ['I am a robot:('] * 10\n",
        "lst += ['human'] * 10\n",
        "random.shuffle(lst)\n",
        "data = pd.DataFrame({'whoAmI':lst})\n",
        "\n",
        "list_1 = list(data['whoAmI'].unique())\n",
        "for i in list_1:\n",
        "    data.loc[data['whoAmI']!=i, i] = 0\n",
        "    data.loc[data['whoAmI']==i, i] = 1\n",
        "\n",
        "print(data)\n"
      ]
    },
    {
      "cell_type": "code",
      "source": [
        "\n",
        "\n"
      ],
      "metadata": {
        "colab": {
          "base_uri": "https://localhost:8080/",
          "height": 159
        },
        "id": "zABQUHEt87Dh",
        "outputId": "c976bdf2-f25b-4f52-94e9-c4ee063019f6"
      },
      "execution_count": null,
      "outputs": [
        {
          "output_type": "error",
          "ename": "NameError",
          "evalue": "name 'df' is not defined",
          "traceback": [
            "\u001b[0;31m---------------------------------------------------------------------------\u001b[0m",
            "\u001b[0;31mNameError\u001b[0m                                 Traceback (most recent call last)",
            "\u001b[0;32m<ipython-input-3-9c3bbc9cba06>\u001b[0m in \u001b[0;36m<cell line: 1>\u001b[0;34m()\u001b[0m\n\u001b[0;32m----> 1\u001b[0;31m \u001b[0mdf\u001b[0m\u001b[0;34m.\u001b[0m\u001b[0mtipes\u001b[0m\u001b[0;34m(\u001b[0m\u001b[0;34m)\u001b[0m\u001b[0;34m\u001b[0m\u001b[0;34m\u001b[0m\u001b[0m\n\u001b[0m\u001b[1;32m      2\u001b[0m \u001b[0;34m\u001b[0m\u001b[0m\n",
            "\u001b[0;31mNameError\u001b[0m: name 'df' is not defined"
          ]
        }
      ]
    }
  ]
}